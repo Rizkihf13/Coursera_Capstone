{
  "nbformat": 4,
  "nbformat_minor": 0,
  "metadata": {
    "colab": {
      "name": "Capstone Project.ipynb",
      "provenance": [],
      "collapsed_sections": []
    },
    "kernelspec": {
      "name": "python3",
      "display_name": "Python 3"
    }
  },
  "cells": [
    {
      "cell_type": "markdown",
      "metadata": {
        "id": "EImO7vp8vlwS"
      },
      "source": [
        "This notebook will be mainly used for the capstone project on [Applied Data Science Capstone by IBM on Coursera](https://www.coursera.org/learn/applied-data-science-capstone/home/info)"
      ]
    },
    {
      "cell_type": "markdown",
      "metadata": {
        "id": "590bCqg6umX0"
      },
      "source": [
        "**Import pandas**"
      ]
    },
    {
      "cell_type": "code",
      "metadata": {
        "id": "Mz5_SpUcu1kC"
      },
      "source": [
        "import pandas as pd"
      ],
      "execution_count": 1,
      "outputs": []
    },
    {
      "cell_type": "markdown",
      "metadata": {
        "id": "wDGxvCTavD9v"
      },
      "source": [
        "**Import numpy**"
      ]
    },
    {
      "cell_type": "code",
      "metadata": {
        "id": "ilExlH7MvJaC"
      },
      "source": [
        "import numpy as np"
      ],
      "execution_count": 2,
      "outputs": []
    },
    {
      "cell_type": "code",
      "metadata": {
        "id": "7xujRxzOvMSG",
        "outputId": "d7e266be-ad9a-44ff-d608-81cf10cec78b",
        "colab": {
          "base_uri": "https://localhost:8080/"
        }
      },
      "source": [
        "print('Hello Capstone Project Course!')"
      ],
      "execution_count": 4,
      "outputs": [
        {
          "output_type": "stream",
          "text": [
            "Hello Capstone Project Course!\n"
          ],
          "name": "stdout"
        }
      ]
    }
  ]
}