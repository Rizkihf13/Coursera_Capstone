{
  "nbformat": 4,
  "nbformat_minor": 0,
  "metadata": {
    "colab": {
      "name": "Coursera Submission project.ipynb",
      "provenance": [],
      "collapsed_sections": []
    },
    "kernelspec": {
      "name": "python3",
      "display_name": "Python 3"
    }
  },
  "cells": [
    {
      "cell_type": "code",
      "metadata": {
        "colab": {
          "base_uri": "https://localhost:8080/"
        },
        "id": "uLenfABO-D0K",
        "outputId": "3f6ad3b5-e957-4e12-b326-314119376937"
      },
      "source": [
        "import numpy as np\n",
        "import pandas as pd\n",
        "from pandas.io.json import json_normalize\n",
        "import json\n",
        "from bs4 import BeautifulSoup\n",
        "import requests\n",
        "!conda install -c conda-forge geopy --yes\n",
        "from geopy.geocoders import Nominatim\n",
        "\n",
        "!conda install -c conda-forge folium=0.5.0 --yes\n",
        "import folium\n",
        "import matplotlib.cm as cm\n",
        "import matplotlib.colors as colors\n",
        "from sklearn.cluster import KMeans\n",
        "\n",
        "print('Libraries imported.')"
      ],
      "execution_count": null,
      "outputs": [
        {
          "output_type": "stream",
          "text": [
            "/bin/bash: conda: command not found\n",
            "/bin/bash: conda: command not found\n",
            "Libraries imported.\n"
          ],
          "name": "stdout"
        }
      ]
    },
    {
      "cell_type": "code",
      "metadata": {
        "id": "yM3IDKjYA9Bc"
      },
      "source": [
        "source = requests.get('https://data.jakarta.go.id/dataset/data-halte-dki-jakarta/resource/f3f2faf2-162d-4fda-b65a-13f5772bbfd2').text \n",
        "soup = BeautifulSoup(source, 'lxml')"
      ],
      "execution_count": null,
      "outputs": []
    },
    {
      "cell_type": "code",
      "metadata": {
        "colab": {
          "base_uri": "https://localhost:8080/"
        },
        "id": "GEEkqZphHGbT",
        "outputId": "664191bc-1f1d-43f8-da93-acf4379157b4"
      },
      "source": [
        "!wget -q -O 'haltetj_data.csv' https://data.jakarta.go.id/dataset/8252b6a2-bfbd-4d97-8e30-bf834879ea3c/resource/f3f2faf2-162d-4fda-b65a-13f5772bbfd2/download/Data-Halte-Transjakarta.csv\n",
        "print('Data downloaded!')"
      ],
      "execution_count": null,
      "outputs": [
        {
          "output_type": "stream",
          "text": [
            "Data downloaded!\n"
          ],
          "name": "stdout"
        }
      ]
    },
    {
      "cell_type": "code",
      "metadata": {
        "colab": {
          "base_uri": "https://localhost:8080/",
          "height": 198
        },
        "id": "OlmznOwmIUVy",
        "outputId": "c336795a-bdf4-4590-991b-f00cb37cd5c9"
      },
      "source": [
        "df_halte = pd.read_csv('haltetj_data.csv')\n",
        "df_halte.head()"
      ],
      "execution_count": null,
      "outputs": [
        {
          "output_type": "execute_result",
          "data": {
            "text/html": [
              "<div>\n",
              "<style scoped>\n",
              "    .dataframe tbody tr th:only-of-type {\n",
              "        vertical-align: middle;\n",
              "    }\n",
              "\n",
              "    .dataframe tbody tr th {\n",
              "        vertical-align: top;\n",
              "    }\n",
              "\n",
              "    .dataframe thead th {\n",
              "        text-align: right;\n",
              "    }\n",
              "</style>\n",
              "<table border=\"1\" class=\"dataframe\">\n",
              "  <thead>\n",
              "    <tr style=\"text-align: right;\">\n",
              "      <th></th>\n",
              "      <th>koridor</th>\n",
              "      <th>nama_halte</th>\n",
              "      <th>lokasi</th>\n",
              "    </tr>\n",
              "  </thead>\n",
              "  <tbody>\n",
              "    <tr>\n",
              "      <th>0</th>\n",
              "      <td>1</td>\n",
              "      <td>Terminal Blok M</td>\n",
              "      <td>Terminal Blok M</td>\n",
              "    </tr>\n",
              "    <tr>\n",
              "      <th>1</th>\n",
              "      <td>1</td>\n",
              "      <td>Mesjid Al-Azhar</td>\n",
              "      <td>Jl. Sisingamangaraja</td>\n",
              "    </tr>\n",
              "    <tr>\n",
              "      <th>2</th>\n",
              "      <td>1</td>\n",
              "      <td>Bundaran Senayan</td>\n",
              "      <td>Jl. Jend Sudirman</td>\n",
              "    </tr>\n",
              "    <tr>\n",
              "      <th>3</th>\n",
              "      <td>1</td>\n",
              "      <td>Gelora Bungkarno</td>\n",
              "      <td>Jl. Jend Sudirman</td>\n",
              "    </tr>\n",
              "    <tr>\n",
              "      <th>4</th>\n",
              "      <td>1</td>\n",
              "      <td>Polda</td>\n",
              "      <td>Jl. Jend Sudirman</td>\n",
              "    </tr>\n",
              "  </tbody>\n",
              "</table>\n",
              "</div>"
            ],
            "text/plain": [
              "   koridor        nama_halte                lokasi\n",
              "0        1   Terminal Blok M       Terminal Blok M\n",
              "1        1   Mesjid Al-Azhar  Jl. Sisingamangaraja\n",
              "2        1  Bundaran Senayan     Jl. Jend Sudirman\n",
              "3        1  Gelora Bungkarno     Jl. Jend Sudirman\n",
              "4        1             Polda     Jl. Jend Sudirman"
            ]
          },
          "metadata": {
            "tags": []
          },
          "execution_count": 9
        }
      ]
    },
    {
      "cell_type": "code",
      "metadata": {
        "colab": {
          "base_uri": "https://localhost:8080/",
          "height": 407
        },
        "id": "mxZVsWG-I05p",
        "outputId": "7f13ca71-9ce1-4482-d9ce-96a2365067be"
      },
      "source": [
        "df_halte.rename(columns={'koridor':'Corridor', 'nama_halte':'Bus Stop', 'lokasi':'Location'}, inplace = True)\n",
        "df_halte\n"
      ],
      "execution_count": null,
      "outputs": [
        {
          "output_type": "execute_result",
          "data": {
            "text/html": [
              "<div>\n",
              "<style scoped>\n",
              "    .dataframe tbody tr th:only-of-type {\n",
              "        vertical-align: middle;\n",
              "    }\n",
              "\n",
              "    .dataframe tbody tr th {\n",
              "        vertical-align: top;\n",
              "    }\n",
              "\n",
              "    .dataframe thead th {\n",
              "        text-align: right;\n",
              "    }\n",
              "</style>\n",
              "<table border=\"1\" class=\"dataframe\">\n",
              "  <thead>\n",
              "    <tr style=\"text-align: right;\">\n",
              "      <th></th>\n",
              "      <th>Corridor</th>\n",
              "      <th>Bus Stop</th>\n",
              "      <th>Location</th>\n",
              "    </tr>\n",
              "  </thead>\n",
              "  <tbody>\n",
              "    <tr>\n",
              "      <th>0</th>\n",
              "      <td>1</td>\n",
              "      <td>Terminal Blok M</td>\n",
              "      <td>Terminal Blok M</td>\n",
              "    </tr>\n",
              "    <tr>\n",
              "      <th>1</th>\n",
              "      <td>1</td>\n",
              "      <td>Mesjid Al-Azhar</td>\n",
              "      <td>Jl. Sisingamangaraja</td>\n",
              "    </tr>\n",
              "    <tr>\n",
              "      <th>2</th>\n",
              "      <td>1</td>\n",
              "      <td>Bundaran Senayan</td>\n",
              "      <td>Jl. Jend Sudirman</td>\n",
              "    </tr>\n",
              "    <tr>\n",
              "      <th>3</th>\n",
              "      <td>1</td>\n",
              "      <td>Gelora Bungkarno</td>\n",
              "      <td>Jl. Jend Sudirman</td>\n",
              "    </tr>\n",
              "    <tr>\n",
              "      <th>4</th>\n",
              "      <td>1</td>\n",
              "      <td>Polda</td>\n",
              "      <td>Jl. Jend Sudirman</td>\n",
              "    </tr>\n",
              "    <tr>\n",
              "      <th>...</th>\n",
              "      <td>...</td>\n",
              "      <td>...</td>\n",
              "      <td>...</td>\n",
              "    </tr>\n",
              "    <tr>\n",
              "      <th>212</th>\n",
              "      <td>13</td>\n",
              "      <td>Pasar Cakung</td>\n",
              "      <td>Jl. Bekasi Raya</td>\n",
              "    </tr>\n",
              "    <tr>\n",
              "      <th>213</th>\n",
              "      <td>13</td>\n",
              "      <td>Cakung Cilincing</td>\n",
              "      <td>Jl. Bekasi Raya</td>\n",
              "    </tr>\n",
              "    <tr>\n",
              "      <th>214</th>\n",
              "      <td>13</td>\n",
              "      <td>Pulogebang'</td>\n",
              "      <td>Jl. Bekasi Raya</td>\n",
              "    </tr>\n",
              "    <tr>\n",
              "      <th>215</th>\n",
              "      <td>13</td>\n",
              "      <td>Ujung Menteng</td>\n",
              "      <td>Jl. Bekasi Raya</td>\n",
              "    </tr>\n",
              "    <tr>\n",
              "      <th>216</th>\n",
              "      <td>13</td>\n",
              "      <td>Harapan Indah (Wil Bekasi)</td>\n",
              "      <td>NaN</td>\n",
              "    </tr>\n",
              "  </tbody>\n",
              "</table>\n",
              "<p>217 rows × 3 columns</p>\n",
              "</div>"
            ],
            "text/plain": [
              "     Corridor                    Bus Stop              Location\n",
              "0           1             Terminal Blok M       Terminal Blok M\n",
              "1           1             Mesjid Al-Azhar  Jl. Sisingamangaraja\n",
              "2           1            Bundaran Senayan     Jl. Jend Sudirman\n",
              "3           1            Gelora Bungkarno     Jl. Jend Sudirman\n",
              "4           1                       Polda     Jl. Jend Sudirman\n",
              "..        ...                         ...                   ...\n",
              "212        13                Pasar Cakung       Jl. Bekasi Raya\n",
              "213        13            Cakung Cilincing       Jl. Bekasi Raya\n",
              "214        13                 Pulogebang'       Jl. Bekasi Raya\n",
              "215        13               Ujung Menteng       Jl. Bekasi Raya\n",
              "216        13  Harapan Indah (Wil Bekasi)                   NaN\n",
              "\n",
              "[217 rows x 3 columns]"
            ]
          },
          "metadata": {
            "tags": []
          },
          "execution_count": 10
        }
      ]
    },
    {
      "cell_type": "code",
      "metadata": {
        "colab": {
          "base_uri": "https://localhost:8080/",
          "height": 618
        },
        "id": "-M2ij0uZQpou",
        "outputId": "82071fe2-e9ce-4faa-d68a-3af810799d15"
      },
      "source": [
        "df_corr8=df_halte.iloc[119:138]\n",
        "df_corr8\n"
      ],
      "execution_count": null,
      "outputs": [
        {
          "output_type": "execute_result",
          "data": {
            "text/html": [
              "<div>\n",
              "<style scoped>\n",
              "    .dataframe tbody tr th:only-of-type {\n",
              "        vertical-align: middle;\n",
              "    }\n",
              "\n",
              "    .dataframe tbody tr th {\n",
              "        vertical-align: top;\n",
              "    }\n",
              "\n",
              "    .dataframe thead th {\n",
              "        text-align: right;\n",
              "    }\n",
              "</style>\n",
              "<table border=\"1\" class=\"dataframe\">\n",
              "  <thead>\n",
              "    <tr style=\"text-align: right;\">\n",
              "      <th></th>\n",
              "      <th>Corridor</th>\n",
              "      <th>Bus Stop</th>\n",
              "      <th>Location</th>\n",
              "    </tr>\n",
              "  </thead>\n",
              "  <tbody>\n",
              "    <tr>\n",
              "      <th>119</th>\n",
              "      <td>8</td>\n",
              "      <td>Terminal Lebak Bulus</td>\n",
              "      <td>Jl.Lebak Bulus Raya</td>\n",
              "    </tr>\n",
              "    <tr>\n",
              "      <th>120</th>\n",
              "      <td>8</td>\n",
              "      <td>Pondok Pinang</td>\n",
              "      <td>Jl.Ciputat Raya</td>\n",
              "    </tr>\n",
              "    <tr>\n",
              "      <th>121</th>\n",
              "      <td>8</td>\n",
              "      <td>Pondok Indah 1</td>\n",
              "      <td>Jl.Metro Pondok Indah</td>\n",
              "    </tr>\n",
              "    <tr>\n",
              "      <th>122</th>\n",
              "      <td>8</td>\n",
              "      <td>Pondok Indah 2</td>\n",
              "      <td>Jl.Metro Pondok Indah</td>\n",
              "    </tr>\n",
              "    <tr>\n",
              "      <th>123</th>\n",
              "      <td>8</td>\n",
              "      <td>Tanah Kusir Kodim</td>\n",
              "      <td>Jl.Sultan Iskandar Muda</td>\n",
              "    </tr>\n",
              "    <tr>\n",
              "      <th>124</th>\n",
              "      <td>8</td>\n",
              "      <td>Kebayoran Lama Bungur</td>\n",
              "      <td>Jl.Sultan Iskandar Muda</td>\n",
              "    </tr>\n",
              "    <tr>\n",
              "      <th>125</th>\n",
              "      <td>8</td>\n",
              "      <td>Pasar Kebayoran Lama</td>\n",
              "      <td>Jl.Sultan Iskandar Muda</td>\n",
              "    </tr>\n",
              "    <tr>\n",
              "      <th>126</th>\n",
              "      <td>8</td>\n",
              "      <td>Simprug Kebayoran Lama</td>\n",
              "      <td>Jl.Sultan Iskandar Muda</td>\n",
              "    </tr>\n",
              "    <tr>\n",
              "      <th>127</th>\n",
              "      <td>8</td>\n",
              "      <td>Permata Hijau</td>\n",
              "      <td>Jl.Letj Soepono</td>\n",
              "    </tr>\n",
              "    <tr>\n",
              "      <th>128</th>\n",
              "      <td>8</td>\n",
              "      <td>Permata Hijau Rs. Medika</td>\n",
              "      <td>Jl.Letj Soepono</td>\n",
              "    </tr>\n",
              "    <tr>\n",
              "      <th>129</th>\n",
              "      <td>8</td>\n",
              "      <td>Pos Pengumben</td>\n",
              "      <td>Jl.Panjang</td>\n",
              "    </tr>\n",
              "    <tr>\n",
              "      <th>130</th>\n",
              "      <td>8</td>\n",
              "      <td>Kelapa Dua Sasak</td>\n",
              "      <td>Jl.Panjang</td>\n",
              "    </tr>\n",
              "    <tr>\n",
              "      <th>131</th>\n",
              "      <td>8</td>\n",
              "      <td>Kebun Jeruk Relasi</td>\n",
              "      <td>Jl.Panjang</td>\n",
              "    </tr>\n",
              "    <tr>\n",
              "      <th>132</th>\n",
              "      <td>8</td>\n",
              "      <td>Duri Kepa</td>\n",
              "      <td>Jl.Panjang</td>\n",
              "    </tr>\n",
              "    <tr>\n",
              "      <th>133</th>\n",
              "      <td>8</td>\n",
              "      <td>Kedoya Assyiddiqiyah</td>\n",
              "      <td>Jl.Panjang</td>\n",
              "    </tr>\n",
              "    <tr>\n",
              "      <th>134</th>\n",
              "      <td>8</td>\n",
              "      <td>Kedoya Green Garden</td>\n",
              "      <td>Jl.Panjang</td>\n",
              "    </tr>\n",
              "    <tr>\n",
              "      <th>135</th>\n",
              "      <td>8</td>\n",
              "      <td>Tomang Mandala</td>\n",
              "      <td>Jl.Tomang Raya</td>\n",
              "    </tr>\n",
              "    <tr>\n",
              "      <th>136</th>\n",
              "      <td>8</td>\n",
              "      <td>Rs Tarakan</td>\n",
              "      <td>Jl.Kyai Caringin</td>\n",
              "    </tr>\n",
              "    <tr>\n",
              "      <th>137</th>\n",
              "      <td>8</td>\n",
              "      <td>Petojo</td>\n",
              "      <td>Jl.Suryopranoto</td>\n",
              "    </tr>\n",
              "  </tbody>\n",
              "</table>\n",
              "</div>"
            ],
            "text/plain": [
              "     Corridor                  Bus Stop                 Location\n",
              "119         8      Terminal Lebak Bulus      Jl.Lebak Bulus Raya\n",
              "120         8             Pondok Pinang          Jl.Ciputat Raya\n",
              "121         8            Pondok Indah 1   Jl.Metro Pondok Indah \n",
              "122         8            Pondok Indah 2   Jl.Metro Pondok Indah \n",
              "123         8         Tanah Kusir Kodim  Jl.Sultan Iskandar Muda\n",
              "124         8     Kebayoran Lama Bungur  Jl.Sultan Iskandar Muda\n",
              "125         8     Pasar Kebayoran Lama   Jl.Sultan Iskandar Muda\n",
              "126         8    Simprug Kebayoran Lama  Jl.Sultan Iskandar Muda\n",
              "127         8             Permata Hijau          Jl.Letj Soepono\n",
              "128         8  Permata Hijau Rs. Medika          Jl.Letj Soepono\n",
              "129         8             Pos Pengumben               Jl.Panjang\n",
              "130         8          Kelapa Dua Sasak               Jl.Panjang\n",
              "131         8        Kebun Jeruk Relasi               Jl.Panjang\n",
              "132         8                 Duri Kepa               Jl.Panjang\n",
              "133         8      Kedoya Assyiddiqiyah               Jl.Panjang\n",
              "134         8       Kedoya Green Garden               Jl.Panjang\n",
              "135         8            Tomang Mandala           Jl.Tomang Raya\n",
              "136         8                Rs Tarakan         Jl.Kyai Caringin\n",
              "137         8                    Petojo          Jl.Suryopranoto"
            ]
          },
          "metadata": {
            "tags": []
          },
          "execution_count": 11
        }
      ]
    },
    {
      "cell_type": "code",
      "metadata": {
        "colab": {
          "base_uri": "https://localhost:8080/"
        },
        "id": "r5VQJqNuLgMT",
        "outputId": "0e1a305b-c63a-464c-b6f4-fd2e9abbe9de"
      },
      "source": [
        "from geopy.geocoders import Nominatim # module to convert an address into latitude and longitude values\n",
        "lats = []\n",
        "for xux in df_corr8['Bus Stop']:\n",
        "    try :\n",
        "        lats.append(Nominatim(user_agent='foursquare_agent').geocode(xux).latitude)\n",
        "    except AttributeError: \n",
        "        lats.append(np.nan)\n",
        "lats"
      ],
      "execution_count": null,
      "outputs": [
        {
          "output_type": "execute_result",
          "data": {
            "text/plain": [
              "[-6.3016717,\n",
              " -6.275479150000001,\n",
              " -6.2874232,\n",
              " -6.2672087,\n",
              " -6.2567274,\n",
              " -6.2526465,\n",
              " -6.2369871,\n",
              " -6.2338924,\n",
              " -8.5191852,\n",
              " -6.2182451,\n",
              " -6.2169379,\n",
              " -6.2055572,\n",
              " nan,\n",
              " -6.176387500000001,\n",
              " -6.1745614,\n",
              " -6.1654833,\n",
              " -6.1770737,\n",
              " nan,\n",
              " -6.1699942]"
            ]
          },
          "metadata": {
            "tags": []
          },
          "execution_count": 12
        }
      ]
    },
    {
      "cell_type": "code",
      "metadata": {
        "colab": {
          "base_uri": "https://localhost:8080/"
        },
        "id": "jkNEKMwXCNuU",
        "outputId": "6b5adc5d-3feb-4f93-b544-280b9432e286"
      },
      "source": [
        "longs = []\n",
        "for yuy in df_corr8['Bus Stop']:\n",
        "    try :\n",
        "        longs.append(Nominatim(user_agent='foursquare_agent').geocode(yuy).longitude)\n",
        "    except AttributeError: \n",
        "        longs.append(np.nan)\n",
        "longs"
      ],
      "execution_count": null,
      "outputs": [
        {
          "output_type": "execute_result",
          "data": {
            "text/plain": [
              "[106.779691,\n",
              " 106.78040265070712,\n",
              " 106.7792939,\n",
              " 106.7836343,\n",
              " 106.77847226618391,\n",
              " 106.78164,\n",
              " 106.7809506,\n",
              " 106.7865249,\n",
              " 118.3175681,\n",
              " 106.7774992,\n",
              " 106.7644495,\n",
              " 106.7695229,\n",
              " nan,\n",
              " 106.77369323123314,\n",
              " 106.7658615,\n",
              " 106.7596955,\n",
              " 106.8000616,\n",
              " nan,\n",
              " 106.816946]"
            ]
          },
          "metadata": {
            "tags": []
          },
          "execution_count": 13
        }
      ]
    },
    {
      "cell_type": "code",
      "metadata": {
        "colab": {
          "base_uri": "https://localhost:8080/",
          "height": 836
        },
        "id": "CxWGBUnZF_g7",
        "outputId": "1d92523d-8cde-4bc6-c312-8f93ce4fe76c"
      },
      "source": [
        "df_corr8['Latitude'] = lats\n",
        "df_corr8['Longitude'] = longs\n",
        "\n",
        "df_corr8"
      ],
      "execution_count": null,
      "outputs": [
        {
          "output_type": "stream",
          "text": [
            "/usr/local/lib/python3.6/dist-packages/ipykernel_launcher.py:1: SettingWithCopyWarning: \n",
            "A value is trying to be set on a copy of a slice from a DataFrame.\n",
            "Try using .loc[row_indexer,col_indexer] = value instead\n",
            "\n",
            "See the caveats in the documentation: https://pandas.pydata.org/pandas-docs/stable/user_guide/indexing.html#returning-a-view-versus-a-copy\n",
            "  \"\"\"Entry point for launching an IPython kernel.\n",
            "/usr/local/lib/python3.6/dist-packages/ipykernel_launcher.py:2: SettingWithCopyWarning: \n",
            "A value is trying to be set on a copy of a slice from a DataFrame.\n",
            "Try using .loc[row_indexer,col_indexer] = value instead\n",
            "\n",
            "See the caveats in the documentation: https://pandas.pydata.org/pandas-docs/stable/user_guide/indexing.html#returning-a-view-versus-a-copy\n",
            "  \n"
          ],
          "name": "stderr"
        },
        {
          "output_type": "execute_result",
          "data": {
            "text/html": [
              "<div>\n",
              "<style scoped>\n",
              "    .dataframe tbody tr th:only-of-type {\n",
              "        vertical-align: middle;\n",
              "    }\n",
              "\n",
              "    .dataframe tbody tr th {\n",
              "        vertical-align: top;\n",
              "    }\n",
              "\n",
              "    .dataframe thead th {\n",
              "        text-align: right;\n",
              "    }\n",
              "</style>\n",
              "<table border=\"1\" class=\"dataframe\">\n",
              "  <thead>\n",
              "    <tr style=\"text-align: right;\">\n",
              "      <th></th>\n",
              "      <th>Corridor</th>\n",
              "      <th>Bus Stop</th>\n",
              "      <th>Location</th>\n",
              "      <th>Latitude</th>\n",
              "      <th>Longitude</th>\n",
              "    </tr>\n",
              "  </thead>\n",
              "  <tbody>\n",
              "    <tr>\n",
              "      <th>119</th>\n",
              "      <td>8</td>\n",
              "      <td>Terminal Lebak Bulus</td>\n",
              "      <td>Jl.Lebak Bulus Raya</td>\n",
              "      <td>-6.301672</td>\n",
              "      <td>106.779691</td>\n",
              "    </tr>\n",
              "    <tr>\n",
              "      <th>120</th>\n",
              "      <td>8</td>\n",
              "      <td>Pondok Pinang</td>\n",
              "      <td>Jl.Ciputat Raya</td>\n",
              "      <td>-6.275479</td>\n",
              "      <td>106.780403</td>\n",
              "    </tr>\n",
              "    <tr>\n",
              "      <th>121</th>\n",
              "      <td>8</td>\n",
              "      <td>Pondok Indah 1</td>\n",
              "      <td>Jl.Metro Pondok Indah</td>\n",
              "      <td>-6.287423</td>\n",
              "      <td>106.779294</td>\n",
              "    </tr>\n",
              "    <tr>\n",
              "      <th>122</th>\n",
              "      <td>8</td>\n",
              "      <td>Pondok Indah 2</td>\n",
              "      <td>Jl.Metro Pondok Indah</td>\n",
              "      <td>-6.267209</td>\n",
              "      <td>106.783634</td>\n",
              "    </tr>\n",
              "    <tr>\n",
              "      <th>123</th>\n",
              "      <td>8</td>\n",
              "      <td>Tanah Kusir Kodim</td>\n",
              "      <td>Jl.Sultan Iskandar Muda</td>\n",
              "      <td>-6.256727</td>\n",
              "      <td>106.778472</td>\n",
              "    </tr>\n",
              "    <tr>\n",
              "      <th>124</th>\n",
              "      <td>8</td>\n",
              "      <td>Kebayoran Lama Bungur</td>\n",
              "      <td>Jl.Sultan Iskandar Muda</td>\n",
              "      <td>-6.252646</td>\n",
              "      <td>106.781640</td>\n",
              "    </tr>\n",
              "    <tr>\n",
              "      <th>125</th>\n",
              "      <td>8</td>\n",
              "      <td>Pasar Kebayoran Lama</td>\n",
              "      <td>Jl.Sultan Iskandar Muda</td>\n",
              "      <td>-6.236987</td>\n",
              "      <td>106.780951</td>\n",
              "    </tr>\n",
              "    <tr>\n",
              "      <th>126</th>\n",
              "      <td>8</td>\n",
              "      <td>Simprug Kebayoran Lama</td>\n",
              "      <td>Jl.Sultan Iskandar Muda</td>\n",
              "      <td>-6.233892</td>\n",
              "      <td>106.786525</td>\n",
              "    </tr>\n",
              "    <tr>\n",
              "      <th>127</th>\n",
              "      <td>8</td>\n",
              "      <td>Permata Hijau</td>\n",
              "      <td>Jl.Letj Soepono</td>\n",
              "      <td>-8.519185</td>\n",
              "      <td>118.317568</td>\n",
              "    </tr>\n",
              "    <tr>\n",
              "      <th>128</th>\n",
              "      <td>8</td>\n",
              "      <td>Permata Hijau Rs. Medika</td>\n",
              "      <td>Jl.Letj Soepono</td>\n",
              "      <td>-6.218245</td>\n",
              "      <td>106.777499</td>\n",
              "    </tr>\n",
              "    <tr>\n",
              "      <th>129</th>\n",
              "      <td>8</td>\n",
              "      <td>Pos Pengumben</td>\n",
              "      <td>Jl.Panjang</td>\n",
              "      <td>-6.216938</td>\n",
              "      <td>106.764449</td>\n",
              "    </tr>\n",
              "    <tr>\n",
              "      <th>130</th>\n",
              "      <td>8</td>\n",
              "      <td>Kelapa Dua Sasak</td>\n",
              "      <td>Jl.Panjang</td>\n",
              "      <td>-6.205557</td>\n",
              "      <td>106.769523</td>\n",
              "    </tr>\n",
              "    <tr>\n",
              "      <th>131</th>\n",
              "      <td>8</td>\n",
              "      <td>Kebun Jeruk Relasi</td>\n",
              "      <td>Jl.Panjang</td>\n",
              "      <td>NaN</td>\n",
              "      <td>NaN</td>\n",
              "    </tr>\n",
              "    <tr>\n",
              "      <th>132</th>\n",
              "      <td>8</td>\n",
              "      <td>Duri Kepa</td>\n",
              "      <td>Jl.Panjang</td>\n",
              "      <td>-6.176388</td>\n",
              "      <td>106.773693</td>\n",
              "    </tr>\n",
              "    <tr>\n",
              "      <th>133</th>\n",
              "      <td>8</td>\n",
              "      <td>Kedoya Assyiddiqiyah</td>\n",
              "      <td>Jl.Panjang</td>\n",
              "      <td>-6.174561</td>\n",
              "      <td>106.765861</td>\n",
              "    </tr>\n",
              "    <tr>\n",
              "      <th>134</th>\n",
              "      <td>8</td>\n",
              "      <td>Kedoya Green Garden</td>\n",
              "      <td>Jl.Panjang</td>\n",
              "      <td>-6.165483</td>\n",
              "      <td>106.759696</td>\n",
              "    </tr>\n",
              "    <tr>\n",
              "      <th>135</th>\n",
              "      <td>8</td>\n",
              "      <td>Tomang Mandala</td>\n",
              "      <td>Jl.Tomang Raya</td>\n",
              "      <td>-6.177074</td>\n",
              "      <td>106.800062</td>\n",
              "    </tr>\n",
              "    <tr>\n",
              "      <th>136</th>\n",
              "      <td>8</td>\n",
              "      <td>Rs Tarakan</td>\n",
              "      <td>Jl.Kyai Caringin</td>\n",
              "      <td>NaN</td>\n",
              "      <td>NaN</td>\n",
              "    </tr>\n",
              "    <tr>\n",
              "      <th>137</th>\n",
              "      <td>8</td>\n",
              "      <td>Petojo</td>\n",
              "      <td>Jl.Suryopranoto</td>\n",
              "      <td>-6.169994</td>\n",
              "      <td>106.816946</td>\n",
              "    </tr>\n",
              "  </tbody>\n",
              "</table>\n",
              "</div>"
            ],
            "text/plain": [
              "     Corridor                  Bus Stop  ...  Latitude   Longitude\n",
              "119         8      Terminal Lebak Bulus  ... -6.301672  106.779691\n",
              "120         8             Pondok Pinang  ... -6.275479  106.780403\n",
              "121         8            Pondok Indah 1  ... -6.287423  106.779294\n",
              "122         8            Pondok Indah 2  ... -6.267209  106.783634\n",
              "123         8         Tanah Kusir Kodim  ... -6.256727  106.778472\n",
              "124         8     Kebayoran Lama Bungur  ... -6.252646  106.781640\n",
              "125         8     Pasar Kebayoran Lama   ... -6.236987  106.780951\n",
              "126         8    Simprug Kebayoran Lama  ... -6.233892  106.786525\n",
              "127         8             Permata Hijau  ... -8.519185  118.317568\n",
              "128         8  Permata Hijau Rs. Medika  ... -6.218245  106.777499\n",
              "129         8             Pos Pengumben  ... -6.216938  106.764449\n",
              "130         8          Kelapa Dua Sasak  ... -6.205557  106.769523\n",
              "131         8        Kebun Jeruk Relasi  ...       NaN         NaN\n",
              "132         8                 Duri Kepa  ... -6.176388  106.773693\n",
              "133         8      Kedoya Assyiddiqiyah  ... -6.174561  106.765861\n",
              "134         8       Kedoya Green Garden  ... -6.165483  106.759696\n",
              "135         8            Tomang Mandala  ... -6.177074  106.800062\n",
              "136         8                Rs Tarakan  ...       NaN         NaN\n",
              "137         8                    Petojo  ... -6.169994  106.816946\n",
              "\n",
              "[19 rows x 5 columns]"
            ]
          },
          "metadata": {
            "tags": []
          },
          "execution_count": 14
        }
      ]
    },
    {
      "cell_type": "code",
      "metadata": {
        "id": "cPDumXbMZ08w",
        "colab": {
          "base_uri": "https://localhost:8080/",
          "height": 727
        },
        "outputId": "1f8b6199-5930-40ca-a063-3ce7d287c0e9"
      },
      "source": [
        "df_corr8.loc[119] = [8,'Lebak Bulus', 'Jl.Lebak Bulus Raya', -6.2895, 106.7742]\n",
        "df_corr8.loc[120] = [8,'Pondok Pinang', 'Jl.Ciputat Raya', -6.2822, 106.7719]\n",
        "df_corr8.loc[121] = [8,'Pondok Indah 1', 'Jl.Metro Pondok Indah', -6.2874, 106.7792]\n",
        "df_corr8.loc[122] = [8,'Pondok Indah 2', 'Jl.Metro Pondok Indah', -6.2672, 106.7836]\n",
        "df_corr8.loc[123] = [8,'Tanah Kusir Kodim', 'Jl.Sultan Iskandar Muda', -6.2570, 106.7816]\n",
        "df_corr8.loc[124] = [8,'Kebayoran Lama Bungur', 'Jl.Sultan Iskandar Muda', -6.2526, 106.7815]\n",
        "df_corr8.loc[125] = [8,'Pasar Kebayoran Lama', 'Jl.Sultan Iskandar Muda', -6.238444, 106.783209]\n",
        "df_corr8.loc[126] = [8,'Simprug Kebayoran Lama', 'Jl.Sultan Iskandar Muda', -6.233914, 106.786683]\n",
        "df_corr8.loc[127] = [8,'Permata Hijau', 'Jl.Letj Soepono', -6.2214, 106.7832]\n",
        "df_corr8.loc[128] = [8,'Permata Hijau Rs. Medika', 'Jl.Letj Soepono', -6.2184, 106.7775]\n",
        "df_corr8.loc[129] = [8,'Pos Pengumben', 'Jl.Panjang', -6.2129, 106.7722]\n",
        "df_corr8.loc[130] = [8,'Kelapa Dua Sasak', 'Jl.Panjang', -6.2055, 106.7695]\n",
        "df_corr8.loc[131] = [8,'Kebun Jeruk Relasi', 'Jl.Panjang', -6.2055, 106.7695]\n",
        "df_corr8.loc[132] = [8,'Duri Kepa', 'Jl.Panjang', -6.1852, 106.7683]\n",
        "df_corr8.loc[133] = [8,'Kedoya Assyiddiqiyah', 'Jl.Panjang', -6.174517, 106.765876]\n",
        "df_corr8.loc[134] = [8,'Kedoya Green Garden', 'Jl.Panjang', -6.1640, 106.7629]\n",
        "df_corr8.loc[135] = [8,'Tomang Mandala', 'Jl.Tomang Raya', -6.1770, 106.8001]\n",
        "df_corr8.loc[136] = [8, 'Rs Tarakan','Jl.Kyai Caringin', -6.171147, 106.810083]\n",
        "df_corr8.loc[137] = [8, 'Petojo','Jl.Suryopranoto', -6.169994\t, 106.816946]\n",
        "\n",
        "df_corr8"
      ],
      "execution_count": null,
      "outputs": [
        {
          "output_type": "stream",
          "text": [
            "/usr/local/lib/python3.6/dist-packages/pandas/core/indexing.py:1758: SettingWithCopyWarning: \n",
            "A value is trying to be set on a copy of a slice from a DataFrame.\n",
            "Try using .loc[row_indexer,col_indexer] = value instead\n",
            "\n",
            "See the caveats in the documentation: https://pandas.pydata.org/pandas-docs/stable/user_guide/indexing.html#returning-a-view-versus-a-copy\n",
            "  isetter(loc, v)\n"
          ],
          "name": "stderr"
        },
        {
          "output_type": "execute_result",
          "data": {
            "text/html": [
              "<div>\n",
              "<style scoped>\n",
              "    .dataframe tbody tr th:only-of-type {\n",
              "        vertical-align: middle;\n",
              "    }\n",
              "\n",
              "    .dataframe tbody tr th {\n",
              "        vertical-align: top;\n",
              "    }\n",
              "\n",
              "    .dataframe thead th {\n",
              "        text-align: right;\n",
              "    }\n",
              "</style>\n",
              "<table border=\"1\" class=\"dataframe\">\n",
              "  <thead>\n",
              "    <tr style=\"text-align: right;\">\n",
              "      <th></th>\n",
              "      <th>Corridor</th>\n",
              "      <th>Bus Stop</th>\n",
              "      <th>Location</th>\n",
              "      <th>Latitude</th>\n",
              "      <th>Longitude</th>\n",
              "    </tr>\n",
              "  </thead>\n",
              "  <tbody>\n",
              "    <tr>\n",
              "      <th>119</th>\n",
              "      <td>8</td>\n",
              "      <td>Lebak Bulus</td>\n",
              "      <td>Jl.Lebak Bulus Raya</td>\n",
              "      <td>-6.289500</td>\n",
              "      <td>106.774200</td>\n",
              "    </tr>\n",
              "    <tr>\n",
              "      <th>120</th>\n",
              "      <td>8</td>\n",
              "      <td>Pondok Pinang</td>\n",
              "      <td>Jl.Ciputat Raya</td>\n",
              "      <td>-6.282200</td>\n",
              "      <td>106.771900</td>\n",
              "    </tr>\n",
              "    <tr>\n",
              "      <th>121</th>\n",
              "      <td>8</td>\n",
              "      <td>Pondok Indah 1</td>\n",
              "      <td>Jl.Metro Pondok Indah</td>\n",
              "      <td>-6.287400</td>\n",
              "      <td>106.779200</td>\n",
              "    </tr>\n",
              "    <tr>\n",
              "      <th>122</th>\n",
              "      <td>8</td>\n",
              "      <td>Pondok Indah 2</td>\n",
              "      <td>Jl.Metro Pondok Indah</td>\n",
              "      <td>-6.267200</td>\n",
              "      <td>106.783600</td>\n",
              "    </tr>\n",
              "    <tr>\n",
              "      <th>123</th>\n",
              "      <td>8</td>\n",
              "      <td>Tanah Kusir Kodim</td>\n",
              "      <td>Jl.Sultan Iskandar Muda</td>\n",
              "      <td>-6.257000</td>\n",
              "      <td>106.781600</td>\n",
              "    </tr>\n",
              "    <tr>\n",
              "      <th>124</th>\n",
              "      <td>8</td>\n",
              "      <td>Kebayoran Lama Bungur</td>\n",
              "      <td>Jl.Sultan Iskandar Muda</td>\n",
              "      <td>-6.252600</td>\n",
              "      <td>106.781500</td>\n",
              "    </tr>\n",
              "    <tr>\n",
              "      <th>125</th>\n",
              "      <td>8</td>\n",
              "      <td>Pasar Kebayoran Lama</td>\n",
              "      <td>Jl.Sultan Iskandar Muda</td>\n",
              "      <td>-6.238444</td>\n",
              "      <td>106.783209</td>\n",
              "    </tr>\n",
              "    <tr>\n",
              "      <th>126</th>\n",
              "      <td>8</td>\n",
              "      <td>Simprug Kebayoran Lama</td>\n",
              "      <td>Jl.Sultan Iskandar Muda</td>\n",
              "      <td>-6.233914</td>\n",
              "      <td>106.786683</td>\n",
              "    </tr>\n",
              "    <tr>\n",
              "      <th>127</th>\n",
              "      <td>8</td>\n",
              "      <td>Permata Hijau</td>\n",
              "      <td>Jl.Letj Soepono</td>\n",
              "      <td>-6.221400</td>\n",
              "      <td>106.783200</td>\n",
              "    </tr>\n",
              "    <tr>\n",
              "      <th>128</th>\n",
              "      <td>8</td>\n",
              "      <td>Permata Hijau Rs. Medika</td>\n",
              "      <td>Jl.Letj Soepono</td>\n",
              "      <td>-6.218400</td>\n",
              "      <td>106.777500</td>\n",
              "    </tr>\n",
              "    <tr>\n",
              "      <th>129</th>\n",
              "      <td>8</td>\n",
              "      <td>Pos Pengumben</td>\n",
              "      <td>Jl.Panjang</td>\n",
              "      <td>-6.212900</td>\n",
              "      <td>106.772200</td>\n",
              "    </tr>\n",
              "    <tr>\n",
              "      <th>130</th>\n",
              "      <td>8</td>\n",
              "      <td>Kelapa Dua Sasak</td>\n",
              "      <td>Jl.Panjang</td>\n",
              "      <td>-6.205500</td>\n",
              "      <td>106.769500</td>\n",
              "    </tr>\n",
              "    <tr>\n",
              "      <th>131</th>\n",
              "      <td>8</td>\n",
              "      <td>Kebun Jeruk Relasi</td>\n",
              "      <td>Jl.Panjang</td>\n",
              "      <td>-6.205500</td>\n",
              "      <td>106.769500</td>\n",
              "    </tr>\n",
              "    <tr>\n",
              "      <th>132</th>\n",
              "      <td>8</td>\n",
              "      <td>Duri Kepa</td>\n",
              "      <td>Jl.Panjang</td>\n",
              "      <td>-6.185200</td>\n",
              "      <td>106.768300</td>\n",
              "    </tr>\n",
              "    <tr>\n",
              "      <th>133</th>\n",
              "      <td>8</td>\n",
              "      <td>Kedoya Assyiddiqiyah</td>\n",
              "      <td>Jl.Panjang</td>\n",
              "      <td>-6.174517</td>\n",
              "      <td>106.765876</td>\n",
              "    </tr>\n",
              "    <tr>\n",
              "      <th>134</th>\n",
              "      <td>8</td>\n",
              "      <td>Kedoya Green Garden</td>\n",
              "      <td>Jl.Panjang</td>\n",
              "      <td>-6.164000</td>\n",
              "      <td>106.762900</td>\n",
              "    </tr>\n",
              "    <tr>\n",
              "      <th>135</th>\n",
              "      <td>8</td>\n",
              "      <td>Tomang Mandala</td>\n",
              "      <td>Jl.Tomang Raya</td>\n",
              "      <td>-6.177000</td>\n",
              "      <td>106.800100</td>\n",
              "    </tr>\n",
              "    <tr>\n",
              "      <th>136</th>\n",
              "      <td>8</td>\n",
              "      <td>Rs Tarakan</td>\n",
              "      <td>Jl.Kyai Caringin</td>\n",
              "      <td>-6.171147</td>\n",
              "      <td>106.810083</td>\n",
              "    </tr>\n",
              "    <tr>\n",
              "      <th>137</th>\n",
              "      <td>8</td>\n",
              "      <td>Petojo</td>\n",
              "      <td>Jl.Suryopranoto</td>\n",
              "      <td>-6.169994</td>\n",
              "      <td>106.816946</td>\n",
              "    </tr>\n",
              "  </tbody>\n",
              "</table>\n",
              "</div>"
            ],
            "text/plain": [
              "     Corridor                  Bus Stop  ...  Latitude   Longitude\n",
              "119         8               Lebak Bulus  ... -6.289500  106.774200\n",
              "120         8             Pondok Pinang  ... -6.282200  106.771900\n",
              "121         8            Pondok Indah 1  ... -6.287400  106.779200\n",
              "122         8            Pondok Indah 2  ... -6.267200  106.783600\n",
              "123         8         Tanah Kusir Kodim  ... -6.257000  106.781600\n",
              "124         8     Kebayoran Lama Bungur  ... -6.252600  106.781500\n",
              "125         8      Pasar Kebayoran Lama  ... -6.238444  106.783209\n",
              "126         8    Simprug Kebayoran Lama  ... -6.233914  106.786683\n",
              "127         8             Permata Hijau  ... -6.221400  106.783200\n",
              "128         8  Permata Hijau Rs. Medika  ... -6.218400  106.777500\n",
              "129         8             Pos Pengumben  ... -6.212900  106.772200\n",
              "130         8          Kelapa Dua Sasak  ... -6.205500  106.769500\n",
              "131         8        Kebun Jeruk Relasi  ... -6.205500  106.769500\n",
              "132         8                 Duri Kepa  ... -6.185200  106.768300\n",
              "133         8      Kedoya Assyiddiqiyah  ... -6.174517  106.765876\n",
              "134         8       Kedoya Green Garden  ... -6.164000  106.762900\n",
              "135         8            Tomang Mandala  ... -6.177000  106.800100\n",
              "136         8                Rs Tarakan  ... -6.171147  106.810083\n",
              "137         8                    Petojo  ... -6.169994  106.816946\n",
              "\n",
              "[19 rows x 5 columns]"
            ]
          },
          "metadata": {
            "tags": []
          },
          "execution_count": 15
        }
      ]
    },
    {
      "cell_type": "code",
      "metadata": {
        "colab": {
          "base_uri": "https://localhost:8080/"
        },
        "id": "JZrDiyeSBwcP",
        "outputId": "df50b1d3-3940-45e9-fabd-248e7aaa8e3b"
      },
      "source": [
        "address = 'Jakarta'\n",
        "\n",
        "geolocator = Nominatim(user_agent=\"coursera-capstone-project\")\n",
        "location = geolocator.geocode(address)\n",
        "latitude = location.latitude\n",
        "longitude = location.longitude\n",
        "print('The geograpical coordinate of Jakarta are {}, {}.'.format(latitude, longitude))"
      ],
      "execution_count": null,
      "outputs": [
        {
          "output_type": "stream",
          "text": [
            "The geograpical coordinate of Jakarta are -6.1753942, 106.827183.\n"
          ],
          "name": "stdout"
        }
      ]
    },
    {
      "cell_type": "code",
      "metadata": {
        "colab": {
          "base_uri": "https://localhost:8080/",
          "height": 689
        },
        "id": "mm6DjtWuE3kp",
        "outputId": "1b476146-752b-4211-f368-3839ca9867a5"
      },
      "source": [
        "corr8_map = folium.Map(location=[latitude, longitude], zoom_start=13)\n",
        "\n",
        "points=[]\n",
        "for lat, lng, labels in zip(df_corr8['Latitude'], df_corr8['Longitude'],df_corr8['Bus Stop']): \n",
        "    points.append([lat,lng])\n",
        "    folium.CircleMarker([lat,lng],radius=5,color='red', fill = True, fill_color='yellow', fill_opacity=0.8).add_to(corr8_map)\n",
        "    folium.Marker([lat,lng], popup=labels).add_to(corr8_map)    \n",
        "folium.PolyLine(points, color=\"blue\", weight=2.5, opacity=1.2).add_to(corr8_map)\n",
        "corr8_map\n"
      ],
      "execution_count": null,
      "outputs": [
        {
          "output_type": "execute_result",
          "data": {
            "text/html": [
              "<div style=\"width:100%;\"><div style=\"position:relative;width:100%;height:0;padding-bottom:60%;\"><span style=\"color:#565656\">Make this Notebook Trusted to load map: File -> Trust Notebook</span><iframe src=\"about:blank\" style=\"position:absolute;width:100%;height:100%;left:0;top:0;border:none !important;\" data-html=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 onload=\"this.contentDocument.open();this.contentDocument.write(atob(this.getAttribute('data-html')));this.contentDocument.close();\" allowfullscreen webkitallowfullscreen mozallowfullscreen></iframe></div></div>"
            ],
            "text/plain": [
              "<folium.folium.Map at 0x7ff9ce9b0cf8>"
            ]
          },
          "metadata": {
            "tags": []
          },
          "execution_count": 17
        }
      ]
    },
    {
      "cell_type": "code",
      "metadata": {
        "colab": {
          "base_uri": "https://localhost:8080/"
        },
        "id": "ncMrf_hsDEAE",
        "outputId": "5b36f5c0-f3bc-4166-a39f-7937e901d4fd"
      },
      "source": [
        "CLIENT_ID = 'E1PPPPSZ1MQNH4XC0Q1WC2EOBAULRWQP0I22RFLN5FRDB5OD'\n",
        "CLIENT_SECRET = 'K4X0HAO1MFDOW1JJAPB2GFNNJMDOHPDMTSFQQUMI40FH5XE5' \n",
        "VERSION = '20180605'\n",
        "\n",
        "print('Your credentails:')\n",
        "print('CLIENT_ID: ' + CLIENT_ID)\n",
        "print('CLIENT_SECRET:' + CLIENT_SECRET)"
      ],
      "execution_count": null,
      "outputs": [
        {
          "output_type": "stream",
          "text": [
            "Your credentails:\n",
            "CLIENT_ID: E1PPPPSZ1MQNH4XC0Q1WC2EOBAULRWQP0I22RFLN5FRDB5OD\n",
            "CLIENT_SECRET:K4X0HAO1MFDOW1JJAPB2GFNNJMDOHPDMTSFQQUMI40FH5XE5\n"
          ],
          "name": "stdout"
        }
      ]
    },
    {
      "cell_type": "code",
      "metadata": {
        "id": "wQWdfm24UVgX"
      },
      "source": [
        "def getList(sname, lat, long):\n",
        "    fixed_venues = []\n",
        "    fixed_categories= []\n",
        "    fixed_station = []\n",
        "    fixed_latitude = []\n",
        "    fixed_longitude = []\n",
        "    for y,z,fs in zip(lat, long, sname):\n",
        "        urls = 'https://api.foursquare.com/v2/venues/search?client_id={}&client_secret={}&ll={},{}&v={}&query={}&radius={}&limit={}'\\\n",
        "        .format(CLIENT_ID, CLIENT_SECRET, y, z, VERSION, '', 1000, 100)\n",
        "        # '' mean find anything\n",
        "        jsen = json_normalize(requests.get(urls).json()['response']['venues'])\n",
        "        fixed_station.extend([fs]*len(jsen['name']))\n",
        "        \n",
        "        #Replacing [] empty list in category with nan and fetch all values from name(get category name)!      \n",
        "        for fc, fv,flat,flong in zip(jsen['categories'], jsen['name'].to_list(), jsen['location.lat'], jsen['location.lng']):\n",
        "            if fc == []:\n",
        "                fixed_categories.append(np.nan)\n",
        "            else :\n",
        "                for sfc in fc:\n",
        "                    fixed_categories.append(sfc['name'])                \n",
        "            fixed_venues.append(fv)\n",
        "            fixed_latitude.append(flat)\n",
        "            fixed_longitude.append(flong)\n",
        " \n",
        " #print(fixed_station)\n",
        "    df = pd.DataFrame({'Bus Stop':fixed_station, 'Venues':fixed_venues, 'Categories':fixed_categories, 'Latitude':fixed_latitude,'Longitude':fixed_longitude })   \n",
        "    df.to_csv(r'result.csv', index = False, header=True)\n",
        "    display(df)"
      ],
      "execution_count": null,
      "outputs": []
    },
    {
      "cell_type": "code",
      "metadata": {
        "colab": {
          "base_uri": "https://localhost:8080/",
          "height": 464
        },
        "id": "YpV9shSAViUw",
        "outputId": "dcb34b63-27f5-467f-9a4c-385c0450fb85"
      },
      "source": [
        "getList(df_corr8['Bus Stop'],df_corr8['Latitude'], df_corr8['Longitude'])"
      ],
      "execution_count": null,
      "outputs": [
        {
          "output_type": "stream",
          "text": [
            "/usr/local/lib/python3.6/dist-packages/ipykernel_launcher.py:10: FutureWarning: pandas.io.json.json_normalize is deprecated, use pandas.json_normalize instead\n",
            "  # Remove the CWD from sys.path while we load stuff.\n"
          ],
          "name": "stderr"
        },
        {
          "output_type": "display_data",
          "data": {
            "text/html": [
              "<div>\n",
              "<style scoped>\n",
              "    .dataframe tbody tr th:only-of-type {\n",
              "        vertical-align: middle;\n",
              "    }\n",
              "\n",
              "    .dataframe tbody tr th {\n",
              "        vertical-align: top;\n",
              "    }\n",
              "\n",
              "    .dataframe thead th {\n",
              "        text-align: right;\n",
              "    }\n",
              "</style>\n",
              "<table border=\"1\" class=\"dataframe\">\n",
              "  <thead>\n",
              "    <tr style=\"text-align: right;\">\n",
              "      <th></th>\n",
              "      <th>Bus Stop</th>\n",
              "      <th>Venues</th>\n",
              "      <th>Categories</th>\n",
              "      <th>Latitude</th>\n",
              "      <th>Longitude</th>\n",
              "    </tr>\n",
              "  </thead>\n",
              "  <tbody>\n",
              "    <tr>\n",
              "      <th>0</th>\n",
              "      <td>Lebak Bulus</td>\n",
              "      <td>Halte TransJakarta Lebak Bulus</td>\n",
              "      <td>Bus Line</td>\n",
              "      <td>-6.289252</td>\n",
              "      <td>106.774551</td>\n",
              "    </tr>\n",
              "    <tr>\n",
              "      <th>1</th>\n",
              "      <td>Lebak Bulus</td>\n",
              "      <td>Stasiun MRT Lebak Bulus</td>\n",
              "      <td>Metro Station</td>\n",
              "      <td>-6.289278</td>\n",
              "      <td>106.774910</td>\n",
              "    </tr>\n",
              "    <tr>\n",
              "      <th>2</th>\n",
              "      <td>Lebak Bulus</td>\n",
              "      <td>Perpustakaan Iman Jama</td>\n",
              "      <td>Library</td>\n",
              "      <td>-6.289120</td>\n",
              "      <td>106.772165</td>\n",
              "    </tr>\n",
              "    <tr>\n",
              "      <th>3</th>\n",
              "      <td>Lebak Bulus</td>\n",
              "      <td>SPBU SHELL-Ps jumat</td>\n",
              "      <td>NaN</td>\n",
              "      <td>-6.289222</td>\n",
              "      <td>106.773891</td>\n",
              "    </tr>\n",
              "    <tr>\n",
              "      <th>4</th>\n",
              "      <td>Lebak Bulus</td>\n",
              "      <td>Solaria</td>\n",
              "      <td>Seafood Restaurant</td>\n",
              "      <td>-6.289935</td>\n",
              "      <td>106.778014</td>\n",
              "    </tr>\n",
              "    <tr>\n",
              "      <th>...</th>\n",
              "      <td>...</td>\n",
              "      <td>...</td>\n",
              "      <td>...</td>\n",
              "      <td>...</td>\n",
              "      <td>...</td>\n",
              "    </tr>\n",
              "    <tr>\n",
              "      <th>1890</th>\n",
              "      <td>Petojo</td>\n",
              "      <td>Kantin Sandro</td>\n",
              "      <td>Coffee Shop</td>\n",
              "      <td>-6.169668</td>\n",
              "      <td>106.817489</td>\n",
              "    </tr>\n",
              "    <tr>\n",
              "      <th>1891</th>\n",
              "      <td>Petojo</td>\n",
              "      <td>allegro fktv kelapa gading</td>\n",
              "      <td>NaN</td>\n",
              "      <td>-6.170130</td>\n",
              "      <td>106.816585</td>\n",
              "    </tr>\n",
              "    <tr>\n",
              "      <th>1892</th>\n",
              "      <td>Petojo</td>\n",
              "      <td>Kelapa Gading</td>\n",
              "      <td>NaN</td>\n",
              "      <td>-6.169560</td>\n",
              "      <td>106.816492</td>\n",
              "    </tr>\n",
              "    <tr>\n",
              "      <th>1893</th>\n",
              "      <td>Petojo</td>\n",
              "      <td>PT Akurat Intan Madya</td>\n",
              "      <td>NaN</td>\n",
              "      <td>-6.169665</td>\n",
              "      <td>106.816669</td>\n",
              "    </tr>\n",
              "    <tr>\n",
              "      <th>1894</th>\n",
              "      <td>Petojo</td>\n",
              "      <td>Itc mangga dua PT. Duta Pertiwi</td>\n",
              "      <td>NaN</td>\n",
              "      <td>-6.169628</td>\n",
              "      <td>106.816893</td>\n",
              "    </tr>\n",
              "  </tbody>\n",
              "</table>\n",
              "<p>1895 rows × 5 columns</p>\n",
              "</div>"
            ],
            "text/plain": [
              "         Bus Stop                           Venues  ...  Latitude   Longitude\n",
              "0     Lebak Bulus   Halte TransJakarta Lebak Bulus  ... -6.289252  106.774551\n",
              "1     Lebak Bulus          Stasiun MRT Lebak Bulus  ... -6.289278  106.774910\n",
              "2     Lebak Bulus           Perpustakaan Iman Jama  ... -6.289120  106.772165\n",
              "3     Lebak Bulus              SPBU SHELL-Ps jumat  ... -6.289222  106.773891\n",
              "4     Lebak Bulus                          Solaria  ... -6.289935  106.778014\n",
              "...           ...                              ...  ...       ...         ...\n",
              "1890       Petojo                    Kantin Sandro  ... -6.169668  106.817489\n",
              "1891       Petojo       allegro fktv kelapa gading  ... -6.170130  106.816585\n",
              "1892       Petojo                    Kelapa Gading  ... -6.169560  106.816492\n",
              "1893       Petojo            PT Akurat Intan Madya  ... -6.169665  106.816669\n",
              "1894       Petojo  Itc mangga dua PT. Duta Pertiwi  ... -6.169628  106.816893\n",
              "\n",
              "[1895 rows x 5 columns]"
            ]
          },
          "metadata": {
            "tags": []
          }
        }
      ]
    },
    {
      "cell_type": "code",
      "metadata": {
        "colab": {
          "base_uri": "https://localhost:8080/",
          "height": 198
        },
        "id": "k7tGLcRWXTxz",
        "outputId": "960a9680-5110-405e-90cf-5213f9b74c69"
      },
      "source": [
        "stop = pd.read_csv('result.csv')\n",
        "stop.head()"
      ],
      "execution_count": null,
      "outputs": [
        {
          "output_type": "execute_result",
          "data": {
            "text/html": [
              "<div>\n",
              "<style scoped>\n",
              "    .dataframe tbody tr th:only-of-type {\n",
              "        vertical-align: middle;\n",
              "    }\n",
              "\n",
              "    .dataframe tbody tr th {\n",
              "        vertical-align: top;\n",
              "    }\n",
              "\n",
              "    .dataframe thead th {\n",
              "        text-align: right;\n",
              "    }\n",
              "</style>\n",
              "<table border=\"1\" class=\"dataframe\">\n",
              "  <thead>\n",
              "    <tr style=\"text-align: right;\">\n",
              "      <th></th>\n",
              "      <th>Bus Stop</th>\n",
              "      <th>Venues</th>\n",
              "      <th>Categories</th>\n",
              "      <th>Latitude</th>\n",
              "      <th>Longitude</th>\n",
              "    </tr>\n",
              "  </thead>\n",
              "  <tbody>\n",
              "    <tr>\n",
              "      <th>0</th>\n",
              "      <td>Lebak Bulus</td>\n",
              "      <td>Halte TransJakarta Lebak Bulus</td>\n",
              "      <td>Bus Line</td>\n",
              "      <td>-6.289252</td>\n",
              "      <td>106.774551</td>\n",
              "    </tr>\n",
              "    <tr>\n",
              "      <th>1</th>\n",
              "      <td>Lebak Bulus</td>\n",
              "      <td>Stasiun MRT Lebak Bulus</td>\n",
              "      <td>Metro Station</td>\n",
              "      <td>-6.289278</td>\n",
              "      <td>106.774910</td>\n",
              "    </tr>\n",
              "    <tr>\n",
              "      <th>2</th>\n",
              "      <td>Lebak Bulus</td>\n",
              "      <td>Perpustakaan Iman Jama</td>\n",
              "      <td>Library</td>\n",
              "      <td>-6.289120</td>\n",
              "      <td>106.772165</td>\n",
              "    </tr>\n",
              "    <tr>\n",
              "      <th>3</th>\n",
              "      <td>Lebak Bulus</td>\n",
              "      <td>SPBU SHELL-Ps jumat</td>\n",
              "      <td>NaN</td>\n",
              "      <td>-6.289222</td>\n",
              "      <td>106.773891</td>\n",
              "    </tr>\n",
              "    <tr>\n",
              "      <th>4</th>\n",
              "      <td>Lebak Bulus</td>\n",
              "      <td>Solaria</td>\n",
              "      <td>Seafood Restaurant</td>\n",
              "      <td>-6.289935</td>\n",
              "      <td>106.778014</td>\n",
              "    </tr>\n",
              "  </tbody>\n",
              "</table>\n",
              "</div>"
            ],
            "text/plain": [
              "      Bus Stop                          Venues  ...  Latitude   Longitude\n",
              "0  Lebak Bulus  Halte TransJakarta Lebak Bulus  ... -6.289252  106.774551\n",
              "1  Lebak Bulus         Stasiun MRT Lebak Bulus  ... -6.289278  106.774910\n",
              "2  Lebak Bulus          Perpustakaan Iman Jama  ... -6.289120  106.772165\n",
              "3  Lebak Bulus             SPBU SHELL-Ps jumat  ... -6.289222  106.773891\n",
              "4  Lebak Bulus                         Solaria  ... -6.289935  106.778014\n",
              "\n",
              "[5 rows x 5 columns]"
            ]
          },
          "metadata": {
            "tags": []
          },
          "execution_count": 21
        }
      ]
    },
    {
      "cell_type": "code",
      "metadata": {
        "colab": {
          "base_uri": "https://localhost:8080/"
        },
        "id": "pIUV62OTfneF",
        "outputId": "40d316da-57c4-46aa-f716-031934109c19"
      },
      "source": [
        "print('There are {} uniques categories.'.format(len(stop['Categories'].unique())))\n"
      ],
      "execution_count": null,
      "outputs": [
        {
          "output_type": "stream",
          "text": [
            "There are 193 uniques categories.\n"
          ],
          "name": "stdout"
        }
      ]
    },
    {
      "cell_type": "code",
      "metadata": {
        "colab": {
          "base_uri": "https://localhost:8080/"
        },
        "id": "G6q38Z9Qgqwc",
        "outputId": "49fea04f-afbf-4f19-efcc-94d782188b41"
      },
      "source": [
        "stop.isna().sum()"
      ],
      "execution_count": null,
      "outputs": [
        {
          "output_type": "execute_result",
          "data": {
            "text/plain": [
              "Bus Stop        0\n",
              "Venues          0\n",
              "Categories    945\n",
              "Latitude        0\n",
              "Longitude       0\n",
              "dtype: int64"
            ]
          },
          "metadata": {
            "tags": []
          },
          "execution_count": 23
        }
      ]
    },
    {
      "cell_type": "code",
      "metadata": {
        "id": "ZY7CBXnWhqPG"
      },
      "source": [
        ""
      ],
      "execution_count": null,
      "outputs": []
    },
    {
      "cell_type": "code",
      "metadata": {
        "colab": {
          "base_uri": "https://localhost:8080/",
          "height": 135
        },
        "id": "QN4uZqhIPZau",
        "outputId": "e4be7f61-7279-4ede-d46e-1f0f691912fa"
      },
      "source": [
        "LIMIT = 100\n",
        "radius = 500\n",
        "def getList(bus_stop, lat, long):\n",
        "    venues = []\n",
        "    categories= []\n",
        "    bus_stop = []\n",
        "    latitude = []\n",
        "    longitude = []\n",
        "    for y,z,fs in zip(lat, long, bus_stop):\n",
        "url = 'https://api.foursquare.com/v2/venues/explore?client_id={}&client_secret={}&ll={},{}&v={}&radius={}&limit={}'.format(\n",
        "    CLIENT_ID, CLIENT_SECRET, y, z, VERSION, radius, LIMIT)\n",
        "results = requests.get(url).json()\n",
        "results\n"
      ],
      "execution_count": null,
      "outputs": [
        {
          "output_type": "error",
          "ename": "IndentationError",
          "evalue": "ignored",
          "traceback": [
            "\u001b[0;36m  File \u001b[0;32m\"<ipython-input-24-87190045f935>\"\u001b[0;36m, line \u001b[0;32m10\u001b[0m\n\u001b[0;31m    url = 'https://api.foursquare.com/v2/venues/explore?client_id={}&client_secret={}&ll={},{}&v={}&radius={}&limit={}'.format(\u001b[0m\n\u001b[0m                                                                                                                               ^\u001b[0m\n\u001b[0;31mIndentationError\u001b[0m\u001b[0;31m:\u001b[0m expected an indented block\n"
          ]
        }
      ]
    },
    {
      "cell_type": "code",
      "metadata": {
        "id": "thyxPxMyPr3v"
      },
      "source": [
        ""
      ],
      "execution_count": null,
      "outputs": []
    }
  ]
}